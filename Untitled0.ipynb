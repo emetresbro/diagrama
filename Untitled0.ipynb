{
  "nbformat": 4,
  "nbformat_minor": 0,
  "metadata": {
    "colab": {
      "name": "Untitled0.ipynb",
      "provenance": [],
      "collapsed_sections": [],
      "authorship_tag": "ABX9TyNpj6brxQ6JPwectG6z6HIG"
    },
    "kernelspec": {
      "name": "python3",
      "display_name": "Python 3"
    },
    "language_info": {
      "name": "python"
    }
  },
  "cells": [
    {
      "cell_type": "code",
      "metadata": {
        "id": "9jbCjLaYhZyA"
      },
      "source": [
        "#Diagrama de flujo para resolver problemas\n",
        "\n",
        "diagrama = input (\"¿Funciona esta pendejada? \")\n",
        "\n",
        "\n",
        "if (diagrama)== (\"yes\") or (diagrama)== (\"si\") or (diagrama)== (\"s\") or (diagrama)== (\"y\"):\n",
        "    print (\"ni le muevas\")\n",
        "    print (\"No hay problema\")\n",
        "elif (diagrama)== (\"no\") or (diagrama)== (\"n\"):\n",
        "    lemov = input (\"¿Le moviste a algo? \")\n",
        "    if (lemov)==(\"yes\"):\n",
        "        print (\"¡pendejo!\")\n",
        "        sabe = input (\"¿sabe alguien que le moviste? \")\n",
        "        if (sabe)==(\"yes\"):\n",
        "            print(\"¡Ya te chingaste!\")\n",
        "            continuar=True\n",
        "            while continuar==True:\n",
        "                culpa = input (\"¿Le puedes echar la culpa a alguien? \")\n",
        "                if culpa==(\"yes\"):\n",
        "                    continuar=False\n",
        "                    print (\"No hay problema\")\n",
        "                elif:\n",
        "                    continuar=True\n",
        "                    print (\"¡Ya te chingaste!\")\n",
        "\n",
        "        elif:\n",
        "          print (\"hazte pendejo\")\n",
        "          print (\"No hay problema\")\n",
        "    elif:\n",
        "        pedo = input (\"¿crees que haya pedo? \")\n",
        "        if (pedo)==(\"yes\"):\n",
        "            print(\"¡Ya te chingaste!\")\n",
        "            continuar=True\n",
        "            while continuar==True:\n",
        "                culpa = input (\"¿Le puedes echar la culpa a alguien? \")\n",
        "                if culpa==(\"yes\"):\n",
        "                    continuar=False\n",
        "                    print (\"No hay problema\")\n",
        "                elif:\n",
        "                    continuar=True\n",
        "                    print (\"¡Ya te chingaste!\")\n",
        "        elif:\n",
        "            print (\"Olvídalo\")\n",
        "            print (\"no hay problema\")"
      ],
      "execution_count": null,
      "outputs": []
    }
  ]
}